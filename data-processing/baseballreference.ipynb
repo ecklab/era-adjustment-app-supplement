{
 "cells": [
  {
   "cell_type": "code",
   "execution_count": 3,
   "id": "79625b0a",
   "metadata": {},
   "outputs": [],
   "source": [
    "## Importing all the required packages\n",
    "from bs4 import BeautifulSoup\n",
    "import requests\n",
    "import pandas as pd\n",
    "import numpy as np\n",
    "from selenium import webdriver\n",
    "from selenium.webdriver.common.keys import Keys\n",
    "import time, os\n",
    "chromedriver = \"/Users/yanshen/Desktop/PhD_UIUC/pythonlearning/chromedriver\"\n",
    "os.environ[\"webdriver.chrome.driver\"] = chromedriver"
   ]
  },
  {
   "cell_type": "code",
   "execution_count": 14,
   "id": "a26657bd",
   "metadata": {},
   "outputs": [
    {
     "name": "stderr",
     "output_type": "stream",
     "text": [
      "/var/folders/_g/7z87_5x96m156yzvnvlfh5br0000gn/T/ipykernel_1380/3389955777.py:24: DeprecationWarning: executable_path has been deprecated, please pass in a Service object\n",
      "  driver = webdriver.Chrome(chromedriver)\n"
     ]
    }
   ],
   "source": [
    "## Generating the vectors containing all the year numbers\n",
    "years = np.linspace(1871,2022,152,dtype=int)\n",
    "\n",
    "def clean_crude(csv):\n",
    "    no_blank = [] \n",
    "    for i in csv:\n",
    "        for j in i:\n",
    "            if j != '':\n",
    "                no_blank.append(j)\n",
    "        new_data_split = []\n",
    "    for i in no_blank:\n",
    "        new_line = pd.DataFrame(i.split(','))\n",
    "        new_data_split.append(new_line)\n",
    "    season_data = pd.concat(new_data_split, ignore_index = True, axis = 1).T\n",
    "    header = season_data.iloc[2]\n",
    "    season_data = season_data[3:]\n",
    "    season_data.columns = header\n",
    "    return season_data\n",
    "\n",
    "for year in years:\n",
    "    soup_list = []\n",
    "    ## Attaching the yeear number in the url to pull the required url\n",
    "    url = \"https://www.baseball-reference.com/leagues/majors/\"+str(year)+\"-standard-batting.shtml\"\n",
    "    driver = webdriver.Chrome(chromedriver)\n",
    "    driver.get(url)\n",
    "    time.sleep(5)\n",
    "    driver.execute_script(\"window.scrollTo(0, 1500);\")\n",
    "    element = driver.find_element('xpath','//*[@id=\"players_standard_batting_sh\"]/div/ul/li[1]')\n",
    "    driver.execute_script(\"arguments[0].click();\", element)\n",
    "    time.sleep(5)\n",
    "    element2 = driver.find_element('xpath','//*[@id=\"players_standard_batting_sh\"]/div/ul/li[1]/div/ul/li[3]/button')\n",
    "    driver.execute_script(\"arguments[0].click();\", element2)\n",
    "    soup = BeautifulSoup(driver.page_source, 'html.parser')\n",
    "    crude = soup.find('pre', id = 'csv_players_standard_batting').text.split(\"\\n\")\n",
    "    soup_list.append(crude)\n",
    "    clean = clean_crude(soup_list)\n",
    "    clean.to_csv('batting'+str(year)+'.csv', index = False)\n"
   ]
  },
  {
   "cell_type": "code",
   "execution_count": 3,
   "id": "4f9732de",
   "metadata": {},
   "outputs": [
    {
     "name": "stderr",
     "output_type": "stream",
     "text": [
      "/var/folders/_g/7z87_5x96m156yzvnvlfh5br0000gn/T/ipykernel_2983/3725301843.py:2: DeprecationWarning: executable_path has been deprecated, please pass in a Service object\n",
      "  driver = webdriver.Chrome(chromedriver)\n"
     ]
    }
   ],
   "source": [
    "for year in years:\n",
    "    soup_list = []\n",
    "    ## Attaching the yeear number in the url to pull the required url\n",
    "    url = \"https://www.baseball-reference.com/leagues/majors/\"+str(year)+\"-standard-pitching.shtml\"\n",
    "    driver = webdriver.Chrome(chromedriver)\n",
    "    driver.get(url)\n",
    "    time.sleep(5)\n",
    "    driver.execute_script(\"window.scrollTo(0, 1500);\")\n",
    "    element = driver.find_element('xpath','//*[@id=\"players_standard_pitching_sh\"]/div/ul/li[1]')\n",
    "    driver.execute_script(\"arguments[0].click();\", element)\n",
    "    time.sleep(5)\n",
    "    element2 = driver.find_element('xpath','//*[@id=\"players_standard_pitching_sh\"]/div/ul/li[1]/div/ul/li[3]/button')\n",
    "    driver.execute_script(\"arguments[0].click();\", element2)\n",
    "    soup = BeautifulSoup(driver.page_source, 'html.parser')\n",
    "    crude = soup.find('pre', id = 'csv_players_standard_pitching').text.split(\"\\n\")\n",
    "    soup_list.append(crude)\n",
    "    clean = clean_crude(soup_list)\n",
    "    clean.to_csv('pitching'+str(year)+'.csv', index = False)\n"
   ]
  }
 ],
 "metadata": {
  "kernelspec": {
   "display_name": "Python 3 (ipykernel)",
   "language": "python",
   "name": "python3"
  },
  "language_info": {
   "codemirror_mode": {
    "name": "ipython",
    "version": 3
   },
   "file_extension": ".py",
   "mimetype": "text/x-python",
   "name": "python",
   "nbconvert_exporter": "python",
   "pygments_lexer": "ipython3",
   "version": "3.9.7"
  }
 },
 "nbformat": 4,
 "nbformat_minor": 5
}
